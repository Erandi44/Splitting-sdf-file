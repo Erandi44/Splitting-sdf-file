{
 "cells": [
  {
   "cell_type": "code",
   "execution_count": null,
   "metadata": {},
   "outputs": [],
   "source": [
    "'''This program transfers mol tables in a batch sdf file to single sdf files with the CAS# as the filename.'''"
   ]
  },
  {
   "cell_type": "code",
   "execution_count": null,
   "metadata": {},
   "outputs": [],
   "source": [
    "# Retrieving CAS number and assign it to a list\n",
    "\n",
    "cas_no =[]\n",
    "\n",
    "with open(\"/5001-5174.sdf\", \"r\") as f:\n",
    "    for line in f:\n",
    "        \n",
    "        searchphrase = '>  <s_sd_cas.rn>'\n",
    "        if searchphrase in line:\n",
    "            \n",
    "            CAS = next(f)\n",
    "            cas_no.append(CAS)\n",
    "            \n",
    "            \n",
    "            \n",
    "print(*cas_no)\n",
    "\n"
   ]
  },
  {
   "cell_type": "code",
   "execution_count": null,
   "metadata": {},
   "outputs": [],
   "source": [
    "# Change path to working directory\n",
    "import os\n",
    "os.chdir('path to working directory')\n",
    "\n",
    "\n",
    "\n",
    "with open(\"./5001-5174.sdf\", \"r\") as file1:\n",
    "    output=\"\"\n",
    "    start = 0\n",
    "    counter=1\n",
    "    \n",
    "    i=0\n",
    "\n",
    "    \n",
    "    for x in file1.read().split(\"\\n\"):# the latter assign each row into an array. Each row is an element\n",
    "        \n",
    "\n",
    "        if x==\"$$$$\":\n",
    "            if (start==0):\n",
    "                file_name = \"{}\".format(cas_no[i])\n",
    "                file_name = file_name.rstrip('\\n')\n",
    "                print(file_name)\n",
    "                \n",
    "                with open(file_name+\".sdf\",'w')as opf:\n",
    "                    opf.write(output)\n",
    "                    opf.write(\"\\n$$$$\")\n",
    "                    opf.close()\n",
    "                    output=\"\"\n",
    "                    counter += 1\n",
    "                    i+=1\n",
    "                            \n",
    "                \n",
    "            else:\n",
    "                start =1\n",
    "            \n",
    "        else:\n",
    "            output= output + \"\\n\" + x\n",
    "            \n",
    "    \n",
    "    \n",
    "    file1.close()"
   ]
  },
  {
   "cell_type": "code",
   "execution_count": null,
   "metadata": {},
   "outputs": [],
   "source": []
  },
  {
   "cell_type": "code",
   "execution_count": null,
   "metadata": {},
   "outputs": [],
   "source": []
  }
 ],
 "metadata": {
  "kernelspec": {
   "display_name": "Python 3",
   "language": "python",
   "name": "python3"
  },
  "language_info": {
   "codemirror_mode": {
    "name": "ipython",
    "version": 3
   },
   "file_extension": ".py",
   "mimetype": "text/x-python",
   "name": "python",
   "nbconvert_exporter": "python",
   "pygments_lexer": "ipython3",
   "version": "3.6.4"
  }
 },
 "nbformat": 4,
 "nbformat_minor": 2
}
